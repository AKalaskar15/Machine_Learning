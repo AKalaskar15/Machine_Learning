{
 "cells": [
  {
   "cell_type": "markdown",
   "metadata": {},
   "source": [
    "# Diabetes Prediction Model"
   ]
  },
  {
   "cell_type": "code",
   "execution_count": 1,
   "metadata": {},
   "outputs": [],
   "source": [
    "#Importing Required Libraries\n",
    "\n",
    "import pandas as pd\n",
    "import numpy as np\n",
    "import matplotlib.pyplot as plt\n",
    "%matplotlib inline\n",
    "import seaborn as sns\n",
    "\n",
    "from sklearn.linear_model import LogisticRegression\n",
    "from sklearn.model_selection import train_test_split\n",
    "from sklearn.metrics import confusion_matrix, roc_curve, roc_auc_score, auc, classification_report"
   ]
  },
  {
   "cell_type": "code",
   "execution_count": 2,
   "metadata": {},
   "outputs": [],
   "source": [
    "# Importing data from csv file\n",
    "\n",
    "data = pd.read_csv(\"diabetes.csv\")"
   ]
  },
  {
   "cell_type": "code",
   "execution_count": 3,
   "metadata": {},
   "outputs": [
    {
     "data": {
      "text/html": [
       "<div>\n",
       "<style scoped>\n",
       "    .dataframe tbody tr th:only-of-type {\n",
       "        vertical-align: middle;\n",
       "    }\n",
       "\n",
       "    .dataframe tbody tr th {\n",
       "        vertical-align: top;\n",
       "    }\n",
       "\n",
       "    .dataframe thead th {\n",
       "        text-align: right;\n",
       "    }\n",
       "</style>\n",
       "<table border=\"1\" class=\"dataframe\">\n",
       "  <thead>\n",
       "    <tr style=\"text-align: right;\">\n",
       "      <th></th>\n",
       "      <th>Pregnancies</th>\n",
       "      <th>Glucose</th>\n",
       "      <th>BloodPressure</th>\n",
       "      <th>SkinThickness</th>\n",
       "      <th>Insulin</th>\n",
       "      <th>BMI</th>\n",
       "      <th>DiabetesPedigreeFunction</th>\n",
       "      <th>Age</th>\n",
       "      <th>Outcome</th>\n",
       "    </tr>\n",
       "  </thead>\n",
       "  <tbody>\n",
       "    <tr>\n",
       "      <th>0</th>\n",
       "      <td>6</td>\n",
       "      <td>148</td>\n",
       "      <td>72</td>\n",
       "      <td>35</td>\n",
       "      <td>0</td>\n",
       "      <td>33.6</td>\n",
       "      <td>0.627</td>\n",
       "      <td>50</td>\n",
       "      <td>1</td>\n",
       "    </tr>\n",
       "    <tr>\n",
       "      <th>1</th>\n",
       "      <td>1</td>\n",
       "      <td>85</td>\n",
       "      <td>66</td>\n",
       "      <td>29</td>\n",
       "      <td>0</td>\n",
       "      <td>26.6</td>\n",
       "      <td>0.351</td>\n",
       "      <td>31</td>\n",
       "      <td>0</td>\n",
       "    </tr>\n",
       "    <tr>\n",
       "      <th>2</th>\n",
       "      <td>8</td>\n",
       "      <td>183</td>\n",
       "      <td>64</td>\n",
       "      <td>0</td>\n",
       "      <td>0</td>\n",
       "      <td>23.3</td>\n",
       "      <td>0.672</td>\n",
       "      <td>32</td>\n",
       "      <td>1</td>\n",
       "    </tr>\n",
       "    <tr>\n",
       "      <th>3</th>\n",
       "      <td>1</td>\n",
       "      <td>89</td>\n",
       "      <td>66</td>\n",
       "      <td>23</td>\n",
       "      <td>94</td>\n",
       "      <td>28.1</td>\n",
       "      <td>0.167</td>\n",
       "      <td>21</td>\n",
       "      <td>0</td>\n",
       "    </tr>\n",
       "    <tr>\n",
       "      <th>4</th>\n",
       "      <td>0</td>\n",
       "      <td>137</td>\n",
       "      <td>40</td>\n",
       "      <td>35</td>\n",
       "      <td>168</td>\n",
       "      <td>43.1</td>\n",
       "      <td>2.288</td>\n",
       "      <td>33</td>\n",
       "      <td>1</td>\n",
       "    </tr>\n",
       "  </tbody>\n",
       "</table>\n",
       "</div>"
      ],
      "text/plain": [
       "   Pregnancies  Glucose  BloodPressure  SkinThickness  Insulin   BMI  \\\n",
       "0            6      148             72             35        0  33.6   \n",
       "1            1       85             66             29        0  26.6   \n",
       "2            8      183             64              0        0  23.3   \n",
       "3            1       89             66             23       94  28.1   \n",
       "4            0      137             40             35      168  43.1   \n",
       "\n",
       "   DiabetesPedigreeFunction  Age  Outcome  \n",
       "0                     0.627   50        1  \n",
       "1                     0.351   31        0  \n",
       "2                     0.672   32        1  \n",
       "3                     0.167   21        0  \n",
       "4                     2.288   33        1  "
      ]
     },
     "execution_count": 3,
     "metadata": {},
     "output_type": "execute_result"
    }
   ],
   "source": [
    "# Checking dataset\n",
    "\n",
    "data.head()"
   ]
  },
  {
   "cell_type": "markdown",
   "metadata": {},
   "source": [
    "## Exploratory Data Analysis"
   ]
  },
  {
   "cell_type": "code",
   "execution_count": 4,
   "metadata": {},
   "outputs": [
    {
     "data": {
      "text/plain": [
       "(768, 9)"
      ]
     },
     "execution_count": 4,
     "metadata": {},
     "output_type": "execute_result"
    }
   ],
   "source": [
    "data.shape"
   ]
  },
  {
   "cell_type": "code",
   "execution_count": 5,
   "metadata": {},
   "outputs": [
    {
     "data": {
      "text/plain": [
       "Index(['Pregnancies', 'Glucose', 'BloodPressure', 'SkinThickness', 'Insulin',\n",
       "       'BMI', 'DiabetesPedigreeFunction', 'Age', 'Outcome'],\n",
       "      dtype='object')"
      ]
     },
     "execution_count": 5,
     "metadata": {},
     "output_type": "execute_result"
    }
   ],
   "source": [
    "data.keys()"
   ]
  },
  {
   "cell_type": "code",
   "execution_count": 6,
   "metadata": {},
   "outputs": [
    {
     "name": "stdout",
     "output_type": "stream",
     "text": [
      "<class 'pandas.core.frame.DataFrame'>\n",
      "RangeIndex: 768 entries, 0 to 767\n",
      "Data columns (total 9 columns):\n",
      " #   Column                    Non-Null Count  Dtype  \n",
      "---  ------                    --------------  -----  \n",
      " 0   Pregnancies               768 non-null    int64  \n",
      " 1   Glucose                   768 non-null    int64  \n",
      " 2   BloodPressure             768 non-null    int64  \n",
      " 3   SkinThickness             768 non-null    int64  \n",
      " 4   Insulin                   768 non-null    int64  \n",
      " 5   BMI                       768 non-null    float64\n",
      " 6   DiabetesPedigreeFunction  768 non-null    float64\n",
      " 7   Age                       768 non-null    int64  \n",
      " 8   Outcome                   768 non-null    int64  \n",
      "dtypes: float64(2), int64(7)\n",
      "memory usage: 54.1 KB\n"
     ]
    }
   ],
   "source": [
    "data.info()"
   ]
  },
  {
   "cell_type": "code",
   "execution_count": 7,
   "metadata": {},
   "outputs": [
    {
     "data": {
      "text/plain": [
       "Pregnancies                 0\n",
       "Glucose                     0\n",
       "BloodPressure               0\n",
       "SkinThickness               0\n",
       "Insulin                     0\n",
       "BMI                         0\n",
       "DiabetesPedigreeFunction    0\n",
       "Age                         0\n",
       "Outcome                     0\n",
       "dtype: int64"
      ]
     },
     "execution_count": 7,
     "metadata": {},
     "output_type": "execute_result"
    }
   ],
   "source": [
    "data.isnull().sum()"
   ]
  },
  {
   "cell_type": "code",
   "execution_count": 8,
   "metadata": {},
   "outputs": [],
   "source": [
    "data[['Glucose','BloodPressure','SkinThickness','Insulin','BMI']] = data[['Glucose','BloodPressure','SkinThickness','Insulin','BMI']].replace(0,np.NaN)"
   ]
  },
  {
   "cell_type": "code",
   "execution_count": 9,
   "metadata": {},
   "outputs": [
    {
     "data": {
      "text/plain": [
       "Pregnancies                   0\n",
       "Glucose                       5\n",
       "BloodPressure                35\n",
       "SkinThickness               227\n",
       "Insulin                     374\n",
       "BMI                          11\n",
       "DiabetesPedigreeFunction      0\n",
       "Age                           0\n",
       "Outcome                       0\n",
       "dtype: int64"
      ]
     },
     "execution_count": 9,
     "metadata": {},
     "output_type": "execute_result"
    }
   ],
   "source": [
    "data.isnull().sum()"
   ]
  },
  {
   "cell_type": "code",
   "execution_count": 10,
   "metadata": {},
   "outputs": [
    {
     "name": "stdout",
     "output_type": "stream",
     "text": [
      "Requirement already satisfied: impyute in c:\\users\\hp\\anaconda3\\lib\\site-packages (0.0.8)\n",
      "Requirement already satisfied: scikit-learn in c:\\users\\hp\\anaconda3\\lib\\site-packages (from impyute) (0.23.1)\n",
      "Requirement already satisfied: scipy in c:\\users\\hp\\anaconda3\\lib\\site-packages (from impyute) (1.5.0)\n",
      "Requirement already satisfied: numpy in c:\\users\\hp\\anaconda3\\lib\\site-packages (from impyute) (1.18.5)\n",
      "Requirement already satisfied: joblib>=0.11 in c:\\users\\hp\\anaconda3\\lib\\site-packages (from scikit-learn->impyute) (0.16.0)\n",
      "Requirement already satisfied: threadpoolctl>=2.0.0 in c:\\users\\hp\\anaconda3\\lib\\site-packages (from scikit-learn->impyute) (2.1.0)\n"
     ]
    }
   ],
   "source": [
    "!pip install impyute\n",
    "import sys\n",
    "from impyute.imputation.cs import fast_knn"
   ]
  },
  {
   "cell_type": "code",
   "execution_count": 11,
   "metadata": {},
   "outputs": [
    {
     "data": {
      "text/plain": [
       "Pregnancies                 0\n",
       "Glucose                     0\n",
       "BloodPressure               0\n",
       "SkinThickness               0\n",
       "Insulin                     0\n",
       "BMI                         0\n",
       "DiabetesPedigreeFunction    0\n",
       "Age                         0\n",
       "Outcome                     0\n",
       "dtype: int64"
      ]
     },
     "execution_count": 11,
     "metadata": {},
     "output_type": "execute_result"
    }
   ],
   "source": [
    "sys.setrecursionlimit(100000) #Increase the recursion limit of the OS\n",
    "\n",
    "# Start the KNN training\n",
    "imputed_training=fast_knn(data[['Glucose','BloodPressure','SkinThickness','Insulin','BMI']].values, k=30)\n",
    "data_t1 = pd.DataFrame(imputed_training,columns=['Glucose','BloodPressure','SkinThickness','Insulin','BMI'])\n",
    "data[['Glucose','BloodPressure','SkinThickness','Insulin','BMI']] = data_t1[['Glucose','BloodPressure','SkinThickness','Insulin','BMI']]\n",
    "data.isnull().sum()"
   ]
  },
  {
   "cell_type": "code",
   "execution_count": 12,
   "metadata": {},
   "outputs": [
    {
     "data": {
      "text/plain": [
       "0"
      ]
     },
     "execution_count": 12,
     "metadata": {},
     "output_type": "execute_result"
    }
   ],
   "source": [
    "data.duplicated().sum()"
   ]
  },
  {
   "cell_type": "code",
   "execution_count": 13,
   "metadata": {},
   "outputs": [
    {
     "data": {
      "text/html": [
       "<div>\n",
       "<style scoped>\n",
       "    .dataframe tbody tr th:only-of-type {\n",
       "        vertical-align: middle;\n",
       "    }\n",
       "\n",
       "    .dataframe tbody tr th {\n",
       "        vertical-align: top;\n",
       "    }\n",
       "\n",
       "    .dataframe thead th {\n",
       "        text-align: right;\n",
       "    }\n",
       "</style>\n",
       "<table border=\"1\" class=\"dataframe\">\n",
       "  <thead>\n",
       "    <tr style=\"text-align: right;\">\n",
       "      <th></th>\n",
       "      <th>Pregnancies</th>\n",
       "      <th>Glucose</th>\n",
       "      <th>BloodPressure</th>\n",
       "      <th>SkinThickness</th>\n",
       "      <th>Insulin</th>\n",
       "      <th>BMI</th>\n",
       "      <th>DiabetesPedigreeFunction</th>\n",
       "      <th>Age</th>\n",
       "      <th>Outcome</th>\n",
       "    </tr>\n",
       "  </thead>\n",
       "  <tbody>\n",
       "    <tr>\n",
       "      <th>count</th>\n",
       "      <td>768.000000</td>\n",
       "      <td>768.000000</td>\n",
       "      <td>768.000000</td>\n",
       "      <td>768.000000</td>\n",
       "      <td>768.000000</td>\n",
       "      <td>768.000000</td>\n",
       "      <td>768.000000</td>\n",
       "      <td>768.000000</td>\n",
       "      <td>768.000000</td>\n",
       "    </tr>\n",
       "    <tr>\n",
       "      <th>mean</th>\n",
       "      <td>3.845052</td>\n",
       "      <td>121.656910</td>\n",
       "      <td>72.427685</td>\n",
       "      <td>29.157087</td>\n",
       "      <td>155.546401</td>\n",
       "      <td>32.439657</td>\n",
       "      <td>0.471876</td>\n",
       "      <td>33.240885</td>\n",
       "      <td>0.348958</td>\n",
       "    </tr>\n",
       "    <tr>\n",
       "      <th>std</th>\n",
       "      <td>3.369578</td>\n",
       "      <td>30.442442</td>\n",
       "      <td>12.102298</td>\n",
       "      <td>8.804400</td>\n",
       "      <td>85.021472</td>\n",
       "      <td>6.877355</td>\n",
       "      <td>0.331329</td>\n",
       "      <td>11.760232</td>\n",
       "      <td>0.476951</td>\n",
       "    </tr>\n",
       "    <tr>\n",
       "      <th>min</th>\n",
       "      <td>0.000000</td>\n",
       "      <td>44.000000</td>\n",
       "      <td>24.000000</td>\n",
       "      <td>7.000000</td>\n",
       "      <td>14.000000</td>\n",
       "      <td>18.200000</td>\n",
       "      <td>0.078000</td>\n",
       "      <td>21.000000</td>\n",
       "      <td>0.000000</td>\n",
       "    </tr>\n",
       "    <tr>\n",
       "      <th>25%</th>\n",
       "      <td>1.000000</td>\n",
       "      <td>99.750000</td>\n",
       "      <td>64.000000</td>\n",
       "      <td>25.000000</td>\n",
       "      <td>121.500000</td>\n",
       "      <td>27.500000</td>\n",
       "      <td>0.243750</td>\n",
       "      <td>24.000000</td>\n",
       "      <td>0.000000</td>\n",
       "    </tr>\n",
       "    <tr>\n",
       "      <th>50%</th>\n",
       "      <td>3.000000</td>\n",
       "      <td>117.000000</td>\n",
       "      <td>72.000000</td>\n",
       "      <td>29.233609</td>\n",
       "      <td>155.548223</td>\n",
       "      <td>32.050000</td>\n",
       "      <td>0.372500</td>\n",
       "      <td>29.000000</td>\n",
       "      <td>0.000000</td>\n",
       "    </tr>\n",
       "    <tr>\n",
       "      <th>75%</th>\n",
       "      <td>6.000000</td>\n",
       "      <td>140.250000</td>\n",
       "      <td>80.000000</td>\n",
       "      <td>32.000000</td>\n",
       "      <td>155.844435</td>\n",
       "      <td>36.600000</td>\n",
       "      <td>0.626250</td>\n",
       "      <td>41.000000</td>\n",
       "      <td>1.000000</td>\n",
       "    </tr>\n",
       "    <tr>\n",
       "      <th>max</th>\n",
       "      <td>17.000000</td>\n",
       "      <td>199.000000</td>\n",
       "      <td>122.000000</td>\n",
       "      <td>99.000000</td>\n",
       "      <td>846.000000</td>\n",
       "      <td>67.100000</td>\n",
       "      <td>2.420000</td>\n",
       "      <td>81.000000</td>\n",
       "      <td>1.000000</td>\n",
       "    </tr>\n",
       "  </tbody>\n",
       "</table>\n",
       "</div>"
      ],
      "text/plain": [
       "       Pregnancies     Glucose  BloodPressure  SkinThickness     Insulin  \\\n",
       "count   768.000000  768.000000     768.000000     768.000000  768.000000   \n",
       "mean      3.845052  121.656910      72.427685      29.157087  155.546401   \n",
       "std       3.369578   30.442442      12.102298       8.804400   85.021472   \n",
       "min       0.000000   44.000000      24.000000       7.000000   14.000000   \n",
       "25%       1.000000   99.750000      64.000000      25.000000  121.500000   \n",
       "50%       3.000000  117.000000      72.000000      29.233609  155.548223   \n",
       "75%       6.000000  140.250000      80.000000      32.000000  155.844435   \n",
       "max      17.000000  199.000000     122.000000      99.000000  846.000000   \n",
       "\n",
       "              BMI  DiabetesPedigreeFunction         Age     Outcome  \n",
       "count  768.000000                768.000000  768.000000  768.000000  \n",
       "mean    32.439657                  0.471876   33.240885    0.348958  \n",
       "std      6.877355                  0.331329   11.760232    0.476951  \n",
       "min     18.200000                  0.078000   21.000000    0.000000  \n",
       "25%     27.500000                  0.243750   24.000000    0.000000  \n",
       "50%     32.050000                  0.372500   29.000000    0.000000  \n",
       "75%     36.600000                  0.626250   41.000000    1.000000  \n",
       "max     67.100000                  2.420000   81.000000    1.000000  "
      ]
     },
     "execution_count": 13,
     "metadata": {},
     "output_type": "execute_result"
    }
   ],
   "source": [
    "data.describe()"
   ]
  },
  {
   "cell_type": "code",
   "execution_count": 14,
   "metadata": {},
   "outputs": [
    {
     "data": {
      "text/plain": [
       "Text(0.5, 1.0, 'Diabetes Patient')"
      ]
     },
     "execution_count": 14,
     "metadata": {},
     "output_type": "execute_result"
    },
    {
     "data": {
      "image/png": "[encoded data removed]",
      "text/plain": [
       "<Figure size 1440x1440 with 9 Axes>"
      ]
     },
     "metadata": {
      "needs_background": "light"
     },
     "output_type": "display_data"
    }
   ],
   "source": [
    "# Data Visualization\n",
    "\n",
    "p = data[data['Outcome']==1].hist(figsize = (20,20))\n",
    "plt.title('Diabetes Patient')"
   ]
  },
  {
   "cell_type": "code",
   "execution_count": 15,
   "metadata": {},
   "outputs": [
    {
     "data": {
      "text/plain": [
       "<matplotlib.axes._subplots.AxesSubplot at 0x1db945996d0>"
      ]
     },
     "execution_count": 15,
     "metadata": {},
     "output_type": "execute_result"
    },
    {
     "data": {
      "image/png": "[encoded data removed]",
      "text/plain": [
       "<Figure size 432x288 with 2 Axes>"
      ]
     },
     "metadata": {
      "needs_background": "light"
     },
     "output_type": "display_data"
    }
   ],
   "source": [
    "sns.heatmap(data.corr(),annot=True)"
   ]
  },
  {
   "cell_type": "code",
   "execution_count": null,
   "metadata": {},
   "outputs": [],
   "source": []
  },
  {
   "cell_type": "markdown",
   "metadata": {},
   "source": [
    "## Splitting data in training and testing datasets"
   ]
  },
  {
   "cell_type": "code",
   "execution_count": 16,
   "metadata": {},
   "outputs": [],
   "source": [
    "from sklearn.model_selection import train_test_split\n",
    "seed = 10\n",
    "test_size = 0.25\n",
    "train, test = train_test_split(data, test_size = test_size, random_state = seed)"
   ]
  },
  {
   "cell_type": "code",
   "execution_count": 17,
   "metadata": {},
   "outputs": [
    {
     "data": {
      "text/plain": [
       "((576, 9), (192, 9), (768, 9))"
      ]
     },
     "execution_count": 17,
     "metadata": {},
     "output_type": "execute_result"
    }
   ],
   "source": [
    "train.shape , test.shape , data.shape"
   ]
  },
  {
   "cell_type": "code",
   "execution_count": 18,
   "metadata": {},
   "outputs": [
    {
     "data": {
      "text/html": [
       "<div>\n",
       "<style scoped>\n",
       "    .dataframe tbody tr th:only-of-type {\n",
       "        vertical-align: middle;\n",
       "    }\n",
       "\n",
       "    .dataframe tbody tr th {\n",
       "        vertical-align: top;\n",
       "    }\n",
       "\n",
       "    .dataframe thead th {\n",
       "        text-align: right;\n",
       "    }\n",
       "</style>\n",
       "<table border=\"1\" class=\"dataframe\">\n",
       "  <thead>\n",
       "    <tr style=\"text-align: right;\">\n",
       "      <th></th>\n",
       "      <th>Pregnancies</th>\n",
       "      <th>Glucose</th>\n",
       "      <th>BloodPressure</th>\n",
       "      <th>SkinThickness</th>\n",
       "      <th>Insulin</th>\n",
       "      <th>BMI</th>\n",
       "      <th>DiabetesPedigreeFunction</th>\n",
       "      <th>Age</th>\n",
       "      <th>Outcome</th>\n",
       "    </tr>\n",
       "  </thead>\n",
       "  <tbody>\n",
       "    <tr>\n",
       "      <th>235</th>\n",
       "      <td>4</td>\n",
       "      <td>171.0</td>\n",
       "      <td>72.0</td>\n",
       "      <td>29.285805</td>\n",
       "      <td>155.808334</td>\n",
       "      <td>43.6</td>\n",
       "      <td>0.479</td>\n",
       "      <td>26</td>\n",
       "      <td>1</td>\n",
       "    </tr>\n",
       "    <tr>\n",
       "      <th>576</th>\n",
       "      <td>6</td>\n",
       "      <td>108.0</td>\n",
       "      <td>44.0</td>\n",
       "      <td>20.000000</td>\n",
       "      <td>130.000000</td>\n",
       "      <td>24.0</td>\n",
       "      <td>0.813</td>\n",
       "      <td>35</td>\n",
       "      <td>0</td>\n",
       "    </tr>\n",
       "    <tr>\n",
       "      <th>22</th>\n",
       "      <td>7</td>\n",
       "      <td>196.0</td>\n",
       "      <td>90.0</td>\n",
       "      <td>29.786750</td>\n",
       "      <td>155.133787</td>\n",
       "      <td>39.8</td>\n",
       "      <td>0.451</td>\n",
       "      <td>41</td>\n",
       "      <td>1</td>\n",
       "    </tr>\n",
       "    <tr>\n",
       "      <th>451</th>\n",
       "      <td>2</td>\n",
       "      <td>134.0</td>\n",
       "      <td>70.0</td>\n",
       "      <td>29.602275</td>\n",
       "      <td>155.548223</td>\n",
       "      <td>28.9</td>\n",
       "      <td>0.542</td>\n",
       "      <td>23</td>\n",
       "      <td>1</td>\n",
       "    </tr>\n",
       "    <tr>\n",
       "      <th>616</th>\n",
       "      <td>6</td>\n",
       "      <td>117.0</td>\n",
       "      <td>96.0</td>\n",
       "      <td>28.169098</td>\n",
       "      <td>155.164315</td>\n",
       "      <td>28.7</td>\n",
       "      <td>0.157</td>\n",
       "      <td>30</td>\n",
       "      <td>0</td>\n",
       "    </tr>\n",
       "  </tbody>\n",
       "</table>\n",
       "</div>"
      ],
      "text/plain": [
       "     Pregnancies  Glucose  BloodPressure  SkinThickness     Insulin   BMI  \\\n",
       "235            4    171.0           72.0      29.285805  155.808334  43.6   \n",
       "576            6    108.0           44.0      20.000000  130.000000  24.0   \n",
       "22             7    196.0           90.0      29.786750  155.133787  39.8   \n",
       "451            2    134.0           70.0      29.602275  155.548223  28.9   \n",
       "616            6    117.0           96.0      28.169098  155.164315  28.7   \n",
       "\n",
       "     DiabetesPedigreeFunction  Age  Outcome  \n",
       "235                     0.479   26        1  \n",
       "576                     0.813   35        0  \n",
       "22                      0.451   41        1  \n",
       "451                     0.542   23        1  \n",
       "616                     0.157   30        0  "
      ]
     },
     "execution_count": 18,
     "metadata": {},
     "output_type": "execute_result"
    }
   ],
   "source": [
    "train.head()"
   ]
  },
  {
   "cell_type": "code",
   "execution_count": 19,
   "metadata": {},
   "outputs": [],
   "source": [
    "train_X = train[['Pregnancies', 'Glucose', 'BloodPressure', 'SkinThickness', 'Insulin','BMI', 'DiabetesPedigreeFunction', 'Age']]\n",
    "train_y = train[['Outcome']]\n",
    "\n",
    "test_X = test[['Pregnancies', 'Glucose', 'BloodPressure', 'SkinThickness', 'Insulin','BMI', 'DiabetesPedigreeFunction', 'Age']]\n",
    "test_y = test[['Outcome']]"
   ]
  },
  {
   "cell_type": "code",
   "execution_count": 20,
   "metadata": {},
   "outputs": [
    {
     "name": "stderr",
     "output_type": "stream",
     "text": [
      "C:\\Users\\HP\\anaconda3\\lib\\site-packages\\sklearn\\utils\\validation.py:73: DataConversionWarning: A column-vector y was passed when a 1d array was expected. Please change the shape of y to (n_samples, ), for example using ravel().\n",
      "  return f(**kwargs)\n"
     ]
    },
    {
     "data": {
      "text/plain": [
       "LogisticRegression(class_weight='balanced', max_iter=1000, random_state=10)"
      ]
     },
     "execution_count": 20,
     "metadata": {},
     "output_type": "execute_result"
    }
   ],
   "source": [
    "model = LogisticRegression(random_state = 10, class_weight='balanced', max_iter = 1000)\n",
    "#model = LogisticRegression(random_state = 10, max_iter = 1000)\n",
    "model.fit(train_X,train_y)"
   ]
  },
  {
   "cell_type": "code",
   "execution_count": 21,
   "metadata": {},
   "outputs": [
    {
     "data": {
      "text/plain": [
       "array([[0.28054643, 0.71945357],\n",
       "       [0.61449708, 0.38550292],\n",
       "       [0.3510178 , 0.6489822 ],\n",
       "       [0.87915693, 0.12084307],\n",
       "       [0.84036191, 0.15963809],\n",
       "       [0.93875993, 0.06124007],\n",
       "       [0.8780674 , 0.1219326 ],\n",
       "       [0.5563364 , 0.4436636 ],\n",
       "       [0.91689489, 0.08310511],\n",
       "       [0.48257981, 0.51742019],\n",
       "       [0.91207205, 0.08792795],\n",
       "       [0.65069208, 0.34930792],\n",
       "       [0.0294118 , 0.9705882 ],\n",
       "       [0.52276719, 0.47723281],\n",
       "       [0.83516306, 0.16483694],\n",
       "       [0.15810464, 0.84189536],\n",
       "       [0.10117496, 0.89882504],\n",
       "       [0.91400267, 0.08599733],\n",
       "       [0.83394315, 0.16605685],\n",
       "       [0.02839489, 0.97160511],\n",
       "       [0.56582999, 0.43417001],\n",
       "       [0.34525679, 0.65474321],\n",
       "       [0.48385166, 0.51614834],\n",
       "       [0.74636999, 0.25363001],\n",
       "       [0.79570821, 0.20429179],\n",
       "       [0.14986982, 0.85013018],\n",
       "       [0.54132439, 0.45867561],\n",
       "       [0.37113666, 0.62886334],\n",
       "       [0.33422234, 0.66577766],\n",
       "       [0.08102035, 0.91897965],\n",
       "       [0.6722797 , 0.3277203 ],\n",
       "       [0.94645533, 0.05354467],\n",
       "       [0.8944638 , 0.1055362 ],\n",
       "       [0.74116606, 0.25883394],\n",
       "       [0.35520741, 0.64479259],\n",
       "       [0.81346366, 0.18653634],\n",
       "       [0.47871422, 0.52128578],\n",
       "       [0.64674844, 0.35325156],\n",
       "       [0.10061922, 0.89938078],\n",
       "       [0.92866262, 0.07133738],\n",
       "       [0.47009948, 0.52990052],\n",
       "       [0.61660539, 0.38339461],\n",
       "       [0.31457277, 0.68542723],\n",
       "       [0.53538881, 0.46461119],\n",
       "       [0.2976919 , 0.7023081 ],\n",
       "       [0.8267766 , 0.1732234 ],\n",
       "       [0.30725299, 0.69274701],\n",
       "       [0.82733558, 0.17266442],\n",
       "       [0.38940761, 0.61059239],\n",
       "       [0.59096363, 0.40903637],\n",
       "       [0.87539714, 0.12460286],\n",
       "       [0.05817175, 0.94182825],\n",
       "       [0.64049572, 0.35950428],\n",
       "       [0.37793426, 0.62206574],\n",
       "       [0.43117561, 0.56882439],\n",
       "       [0.86859457, 0.13140543],\n",
       "       [0.90844401, 0.09155599],\n",
       "       [0.56683903, 0.43316097],\n",
       "       [0.70635003, 0.29364997],\n",
       "       [0.94085975, 0.05914025],\n",
       "       [0.82353352, 0.17646648],\n",
       "       [0.85846959, 0.14153041],\n",
       "       [0.94386737, 0.05613263],\n",
       "       [0.33130482, 0.66869518],\n",
       "       [0.84482222, 0.15517778],\n",
       "       [0.41437376, 0.58562624],\n",
       "       [0.23461947, 0.76538053],\n",
       "       [0.51698921, 0.48301079],\n",
       "       [0.73834985, 0.26165015],\n",
       "       [0.21647699, 0.78352301],\n",
       "       [0.14950058, 0.85049942],\n",
       "       [0.66828712, 0.33171288],\n",
       "       [0.45325887, 0.54674113],\n",
       "       [0.22688242, 0.77311758],\n",
       "       [0.6674202 , 0.3325798 ],\n",
       "       [0.81851587, 0.18148413],\n",
       "       [0.21499551, 0.78500449],\n",
       "       [0.10158231, 0.89841769],\n",
       "       [0.91623748, 0.08376252],\n",
       "       [0.6298192 , 0.3701808 ],\n",
       "       [0.90499433, 0.09500567],\n",
       "       [0.08380301, 0.91619699],\n",
       "       [0.92951186, 0.07048814],\n",
       "       [0.74731354, 0.25268646],\n",
       "       [0.56674161, 0.43325839],\n",
       "       [0.14627497, 0.85372503],\n",
       "       [0.36380527, 0.63619473],\n",
       "       [0.47358538, 0.52641462],\n",
       "       [0.067607  , 0.932393  ],\n",
       "       [0.63109141, 0.36890859],\n",
       "       [0.74313971, 0.25686029],\n",
       "       [0.40625969, 0.59374031],\n",
       "       [0.94070723, 0.05929277],\n",
       "       [0.81008044, 0.18991956],\n",
       "       [0.86673938, 0.13326062],\n",
       "       [0.87995155, 0.12004845],\n",
       "       [0.09325809, 0.90674191],\n",
       "       [0.85900829, 0.14099171],\n",
       "       [0.86039355, 0.13960645],\n",
       "       [0.49171518, 0.50828482],\n",
       "       [0.22136285, 0.77863715],\n",
       "       [0.50818236, 0.49181764],\n",
       "       [0.32521525, 0.67478475],\n",
       "       [0.54266819, 0.45733181],\n",
       "       [0.79833361, 0.20166639],\n",
       "       [0.30127143, 0.69872857],\n",
       "       [0.09831395, 0.90168605],\n",
       "       [0.1087196 , 0.8912804 ],\n",
       "       [0.71208123, 0.28791877],\n",
       "       [0.1484356 , 0.8515644 ],\n",
       "       [0.83781426, 0.16218574],\n",
       "       [0.17491978, 0.82508022],\n",
       "       [0.58143695, 0.41856305],\n",
       "       [0.66314736, 0.33685264],\n",
       "       [0.58191397, 0.41808603],\n",
       "       [0.90181573, 0.09818427],\n",
       "       [0.9687823 , 0.0312177 ],\n",
       "       [0.35160407, 0.64839593],\n",
       "       [0.82224325, 0.17775675],\n",
       "       [0.06240555, 0.93759445],\n",
       "       [0.83933477, 0.16066523],\n",
       "       [0.91482276, 0.08517724],\n",
       "       [0.73374832, 0.26625168],\n",
       "       [0.27492759, 0.72507241],\n",
       "       [0.3636899 , 0.6363101 ],\n",
       "       [0.39675456, 0.60324544],\n",
       "       [0.77689718, 0.22310282],\n",
       "       [0.75085045, 0.24914955],\n",
       "       [0.36615349, 0.63384651],\n",
       "       [0.87947769, 0.12052231],\n",
       "       [0.11759769, 0.88240231],\n",
       "       [0.4710676 , 0.5289324 ],\n",
       "       [0.19720487, 0.80279513],\n",
       "       [0.8604037 , 0.1395963 ],\n",
       "       [0.8627148 , 0.1372852 ],\n",
       "       [0.62350759, 0.37649241],\n",
       "       [0.40054651, 0.59945349],\n",
       "       [0.42081143, 0.57918857],\n",
       "       [0.15747039, 0.84252961],\n",
       "       [0.20325253, 0.79674747],\n",
       "       [0.6665379 , 0.3334621 ],\n",
       "       [0.9109835 , 0.0890165 ],\n",
       "       [0.53271064, 0.46728936],\n",
       "       [0.6643775 , 0.3356225 ],\n",
       "       [0.11519532, 0.88480468],\n",
       "       [0.42966592, 0.57033408],\n",
       "       [0.19400046, 0.80599954],\n",
       "       [0.1654683 , 0.8345317 ],\n",
       "       [0.15814371, 0.84185629],\n",
       "       [0.5844002 , 0.4155998 ],\n",
       "       [0.61511706, 0.38488294],\n",
       "       [0.89816445, 0.10183555],\n",
       "       [0.2521145 , 0.7478855 ],\n",
       "       [0.91088823, 0.08911177],\n",
       "       [0.03886955, 0.96113045],\n",
       "       [0.89989471, 0.10010529],\n",
       "       [0.8025943 , 0.1974057 ],\n",
       "       [0.55957159, 0.44042841],\n",
       "       [0.76728338, 0.23271662],\n",
       "       [0.92686835, 0.07313165],\n",
       "       [0.50603792, 0.49396208],\n",
       "       [0.0868772 , 0.9131228 ],\n",
       "       [0.86069548, 0.13930452],\n",
       "       [0.75971164, 0.24028836],\n",
       "       [0.43524041, 0.56475959],\n",
       "       [0.39569258, 0.60430742],\n",
       "       [0.66364325, 0.33635675],\n",
       "       [0.34903271, 0.65096729],\n",
       "       [0.94156115, 0.05843885],\n",
       "       [0.40863305, 0.59136695],\n",
       "       [0.18652757, 0.81347243],\n",
       "       [0.92038099, 0.07961901],\n",
       "       [0.96243721, 0.03756279],\n",
       "       [0.43167646, 0.56832354],\n",
       "       [0.16232763, 0.83767237],\n",
       "       [0.50929513, 0.49070487],\n",
       "       [0.5632836 , 0.4367164 ],\n",
       "       [0.15663708, 0.84336292],\n",
       "       [0.91234963, 0.08765037],\n",
       "       [0.64503886, 0.35496114],\n",
       "       [0.51629645, 0.48370355],\n",
       "       [0.95098591, 0.04901409],\n",
       "       [0.81480174, 0.18519826],\n",
       "       [0.69677624, 0.30322376],\n",
       "       [0.8741105 , 0.1258895 ],\n",
       "       [0.82593013, 0.17406987],\n",
       "       [0.77945249, 0.22054751],\n",
       "       [0.67873266, 0.32126734],\n",
       "       [0.82912502, 0.17087498],\n",
       "       [0.85826934, 0.14173066],\n",
       "       [0.66912595, 0.33087405],\n",
       "       [0.02371204, 0.97628796]])"
      ]
     },
     "execution_count": 21,
     "metadata": {},
     "output_type": "execute_result"
    }
   ],
   "source": [
    "model.predict_proba(test_X)"
   ]
  },
  {
   "cell_type": "code",
   "execution_count": 22,
   "metadata": {},
   "outputs": [
    {
     "data": {
      "text/plain": [
       "array([1, 0, 1, 0, 0, 0, 0, 0, 0, 1, 0, 0, 1, 0, 0, 1, 1, 0, 0, 1, 0, 1,\n",
       "       1, 0, 0, 1, 0, 1, 1, 1, 0, 0, 0, 0, 1, 0, 1, 0, 1, 0, 1, 0, 1, 0,\n",
       "       1, 0, 1, 0, 1, 0, 0, 1, 0, 1, 1, 0, 0, 0, 0, 0, 0, 0, 0, 1, 0, 1,\n",
       "       1, 0, 0, 1, 1, 0, 1, 1, 0, 0, 1, 1, 0, 0, 0, 1, 0, 0, 0, 1, 1, 1,\n",
       "       1, 0, 0, 1, 0, 0, 0, 0, 1, 0, 0, 1, 1, 0, 1, 0, 0, 1, 1, 1, 0, 1,\n",
       "       0, 1, 0, 0, 0, 0, 0, 1, 0, 1, 0, 0, 0, 1, 1, 1, 0, 0, 1, 0, 1, 1,\n",
       "       1, 0, 0, 0, 1, 1, 1, 1, 0, 0, 0, 0, 1, 1, 1, 1, 1, 0, 0, 0, 1, 0,\n",
       "       1, 0, 0, 0, 0, 0, 0, 1, 0, 0, 1, 1, 0, 1, 0, 1, 1, 0, 0, 1, 1, 0,\n",
       "       0, 1, 0, 0, 0, 0, 0, 0, 0, 0, 0, 0, 0, 0, 0, 1], dtype=int64)"
      ]
     },
     "execution_count": 22,
     "metadata": {},
     "output_type": "execute_result"
    }
   ],
   "source": [
    "model.predict(test_X)"
   ]
  },
  {
   "cell_type": "code",
   "execution_count": 23,
   "metadata": {},
   "outputs": [],
   "source": [
    "pred1 = model.predict(test_X)"
   ]
  },
  {
   "cell_type": "code",
   "execution_count": 24,
   "metadata": {},
   "outputs": [
    {
     "name": "stdout",
     "output_type": "stream",
     "text": [
      "[[92 29]\n",
      " [22 49]]\n"
     ]
    }
   ],
   "source": [
    "con_mat1 = confusion_matrix(test_y, pred1)\n",
    "print(con_mat1)"
   ]
  },
  {
   "cell_type": "code",
   "execution_count": 25,
   "metadata": {},
   "outputs": [
    {
     "name": "stdout",
     "output_type": "stream",
     "text": [
      "[[49 22]\n",
      " [29 92]]\n"
     ]
    }
   ],
   "source": [
    "pred = model.predict(test_X)\n",
    "labels = [1, 0]\n",
    "con_mat = confusion_matrix(test_y, pred, labels = labels )\n",
    "print(con_mat)"
   ]
  },
  {
   "cell_type": "code",
   "execution_count": 26,
   "metadata": {},
   "outputs": [
    {
     "name": "stdout",
     "output_type": "stream",
     "text": [
      "0.734375\n",
      "0.734375\n"
     ]
    }
   ],
   "source": [
    "accuracy=(con_mat[0,0] + con_mat[1,1])/test_y.size\n",
    "print(accuracy)\n",
    "print(model.score(test_X, test_y))\n",
    "#np.mean(test_y == pred)"
   ]
  },
  {
   "cell_type": "code",
   "execution_count": 27,
   "metadata": {},
   "outputs": [
    {
     "name": "stdout",
     "output_type": "stream",
     "text": [
      "Report : \n",
      "              precision    recall  f1-score   support\n",
      "\n",
      "           0       0.81      0.76      0.78       121\n",
      "           1       0.63      0.69      0.66        71\n",
      "\n",
      "    accuracy                           0.73       192\n",
      "   macro avg       0.72      0.73      0.72       192\n",
      "weighted avg       0.74      0.73      0.74       192\n",
      "\n"
     ]
    }
   ],
   "source": [
    "actual = test_y\n",
    "predicted = pred\n",
    "#results = confusion_matrix(actual, predicted) \n",
    "#print('Confusion Matrix :')\n",
    "#print(results) \n",
    "#print ('Accuracy Score :',accuracy_score(actual, predicted)) \n",
    "print ('Report : ')\n",
    "print (classification_report(actual, predicted))"
   ]
  },
  {
   "cell_type": "markdown",
   "metadata": {},
   "source": [
    "## Saving a pickle model to use it again"
   ]
  },
  {
   "cell_type": "code",
   "execution_count": 30,
   "metadata": {},
   "outputs": [],
   "source": [
    "import pickle\n",
    "\n",
    "filename = 'diabetes.pkl'\n",
    "# open a file, where you ant to store the data\n",
    "pickle.dump(model,open(filename,'wb'))"
   ]
  },
  {
   "cell_type": "code",
   "execution_count": 34,
   "metadata": {},
   "outputs": [],
   "source": [
    "loaded_model = pickle.load(open(filename,'rb'))"
   ]
  },
  {
   "cell_type": "code",
   "execution_count": 35,
   "metadata": {},
   "outputs": [
    {
     "name": "stdout",
     "output_type": "stream",
     "text": [
      "0.734375\n"
     ]
    }
   ],
   "source": [
    "result = loaded_model.score(test_X,test_y)\n",
    "print(result)"
   ]
  },
  {
   "cell_type": "code",
   "execution_count": null,
   "metadata": {},
   "outputs": [],
   "source": []
  }
 ],
 "metadata": {
  "kernelspec": {
   "display_name": "Python 3",
   "language": "python",
   "name": "python3"
  },
  "language_info": {
   "codemirror_mode": {
    "name": "ipython",
    "version": 3
   },
   "file_extension": ".py",
   "mimetype": "text/x-python",
   "name": "python",
   "nbconvert_exporter": "python",
   "pygments_lexer": "ipython3",
   "version": "3.8.3"
  }
 },
 "nbformat": 4,
 "nbformat_minor": 4
}
